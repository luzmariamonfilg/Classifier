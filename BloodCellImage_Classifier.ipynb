{
  "nbformat": 4,
  "nbformat_minor": 0,
  "metadata": {
    "colab": {
      "name": "BloodCellImage_Classifier.ipynb",
      "provenance": []
    },
    "kernelspec": {
      "name": "python3",
      "display_name": "Python 3"
    }
  },
  "cells": [
    {
      "cell_type": "code",
      "metadata": {
        "id": "EuR4Oh5Dc4h-"
      },
      "source": [
        "from google.colab import files\n",
        "import numpy as np\n",
        "import matplotlib.pyplot as plt\n",
        "import pandas as pd\n",
        "import matplotlib.pyplot as plt\n",
        "import matplotlib.patches as patches\n",
        "from sklearn.preprocessing import StandardScaler"
      ],
      "execution_count": null,
      "outputs": []
    },
    {
      "cell_type": "code",
      "metadata": {
        "id": "LJeNc9U1djKd",
        "colab": {
          "resources": {
            "http://localhost:8080/nbextensions/google.colab/files.js": {
              "data": "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",
              "ok": true,
              "headers": [
                [
                  "content-type",
                  "application/javascript"
                ]
              ],
              "status": 200,
              "status_text": ""
            }
          },
          "base_uri": "https://localhost:8080/",
          "height": 73
        },
        "outputId": "b28a26be-3001-442b-8b05-296291d150e0"
      },
      "source": [
        "uploaded = files.upload()"
      ],
      "execution_count": null,
      "outputs": [
        {
          "output_type": "display_data",
          "data": {
            "text/html": [
              "\n",
              "     <input type=\"file\" id=\"files-b331ac85-ff46-47ae-8881-0a392a7e108b\" name=\"files[]\" multiple disabled\n",
              "        style=\"border:none\" />\n",
              "     <output id=\"result-b331ac85-ff46-47ae-8881-0a392a7e108b\">\n",
              "      Upload widget is only available when the cell has been executed in the\n",
              "      current browser session. Please rerun this cell to enable.\n",
              "      </output>\n",
              "      <script src=\"/nbextensions/google.colab/files.js\"></script> "
            ],
            "text/plain": [
              "<IPython.core.display.HTML object>"
            ]
          },
          "metadata": {
            "tags": []
          }
        },
        {
          "output_type": "stream",
          "text": [
            "Saving test.csv to test.csv\n"
          ],
          "name": "stdout"
        }
      ]
    },
    {
      "cell_type": "code",
      "metadata": {
        "id": "jJuxKAODdrzw",
        "colab": {
          "base_uri": "https://localhost:8080/",
          "height": 404
        },
        "outputId": "0d0b8115-b759-4ad9-c88c-8f07ca3d4307"
      },
      "source": [
        "df = pd.read_csv('test.csv')\n",
        "labels = []\n",
        "cell= []\n",
        "xmax = list(df.xmax)\n",
        "xmin = list(df.xmin)\n",
        "ymax = list(df.ymax)\n",
        "ymin = list(df.ymin)\n",
        "\n",
        "df.head()\n",
        "for index, row in df.iterrows():\n",
        "  labels.append(row['filename'])\n",
        "  cell.append(row['cell_type'])\n",
        " #\n",
        "\n",
        "df"
      ],
      "execution_count": null,
      "outputs": [
        {
          "output_type": "execute_result",
          "data": {
            "text/html": [
              "<div>\n",
              "<style scoped>\n",
              "    .dataframe tbody tr th:only-of-type {\n",
              "        vertical-align: middle;\n",
              "    }\n",
              "\n",
              "    .dataframe tbody tr th {\n",
              "        vertical-align: top;\n",
              "    }\n",
              "\n",
              "    .dataframe thead th {\n",
              "        text-align: right;\n",
              "    }\n",
              "</style>\n",
              "<table border=\"1\" class=\"dataframe\">\n",
              "  <thead>\n",
              "    <tr style=\"text-align: right;\">\n",
              "      <th></th>\n",
              "      <th>filename</th>\n",
              "      <th>cell_type</th>\n",
              "      <th>xmin</th>\n",
              "      <th>xmax</th>\n",
              "      <th>ymin</th>\n",
              "      <th>ymax</th>\n",
              "    </tr>\n",
              "  </thead>\n",
              "  <tbody>\n",
              "    <tr>\n",
              "      <th>0</th>\n",
              "      <td>BloodImage_00000.jpg</td>\n",
              "      <td>WBC</td>\n",
              "      <td>260</td>\n",
              "      <td>491</td>\n",
              "      <td>177</td>\n",
              "      <td>376</td>\n",
              "    </tr>\n",
              "    <tr>\n",
              "      <th>1</th>\n",
              "      <td>BloodImage_00000.jpg</td>\n",
              "      <td>RBC</td>\n",
              "      <td>78</td>\n",
              "      <td>184</td>\n",
              "      <td>336</td>\n",
              "      <td>435</td>\n",
              "    </tr>\n",
              "    <tr>\n",
              "      <th>2</th>\n",
              "      <td>BloodImage_00000.jpg</td>\n",
              "      <td>RBC</td>\n",
              "      <td>63</td>\n",
              "      <td>169</td>\n",
              "      <td>237</td>\n",
              "      <td>336</td>\n",
              "    </tr>\n",
              "    <tr>\n",
              "      <th>3</th>\n",
              "      <td>BloodImage_00000.jpg</td>\n",
              "      <td>RBC</td>\n",
              "      <td>214</td>\n",
              "      <td>320</td>\n",
              "      <td>362</td>\n",
              "      <td>461</td>\n",
              "    </tr>\n",
              "    <tr>\n",
              "      <th>4</th>\n",
              "      <td>BloodImage_00000.jpg</td>\n",
              "      <td>RBC</td>\n",
              "      <td>414</td>\n",
              "      <td>506</td>\n",
              "      <td>352</td>\n",
              "      <td>445</td>\n",
              "    </tr>\n",
              "    <tr>\n",
              "      <th>...</th>\n",
              "      <td>...</td>\n",
              "      <td>...</td>\n",
              "      <td>...</td>\n",
              "      <td>...</td>\n",
              "      <td>...</td>\n",
              "      <td>...</td>\n",
              "    </tr>\n",
              "    <tr>\n",
              "      <th>4883</th>\n",
              "      <td>BloodImage_00410.jpg</td>\n",
              "      <td>Platelets</td>\n",
              "      <td>239</td>\n",
              "      <td>291</td>\n",
              "      <td>275</td>\n",
              "      <td>321</td>\n",
              "    </tr>\n",
              "    <tr>\n",
              "      <th>4884</th>\n",
              "      <td>BloodImage_00410.jpg</td>\n",
              "      <td>Platelets</td>\n",
              "      <td>121</td>\n",
              "      <td>189</td>\n",
              "      <td>260</td>\n",
              "      <td>320</td>\n",
              "    </tr>\n",
              "    <tr>\n",
              "      <th>4885</th>\n",
              "      <td>BloodImage_00410.jpg</td>\n",
              "      <td>Platelets</td>\n",
              "      <td>57</td>\n",
              "      <td>104</td>\n",
              "      <td>119</td>\n",
              "      <td>167</td>\n",
              "    </tr>\n",
              "    <tr>\n",
              "      <th>4886</th>\n",
              "      <td>BloodImage_00410.jpg</td>\n",
              "      <td>Platelets</td>\n",
              "      <td>1</td>\n",
              "      <td>29</td>\n",
              "      <td>286</td>\n",
              "      <td>327</td>\n",
              "    </tr>\n",
              "    <tr>\n",
              "      <th>4887</th>\n",
              "      <td>BloodImage_00410.jpg</td>\n",
              "      <td>WBC</td>\n",
              "      <td>367</td>\n",
              "      <td>611</td>\n",
              "      <td>166</td>\n",
              "      <td>394</td>\n",
              "    </tr>\n",
              "  </tbody>\n",
              "</table>\n",
              "<p>4888 rows × 6 columns</p>\n",
              "</div>"
            ],
            "text/plain": [
              "                  filename  cell_type  xmin  xmax  ymin  ymax\n",
              "0     BloodImage_00000.jpg        WBC   260   491   177   376\n",
              "1     BloodImage_00000.jpg        RBC    78   184   336   435\n",
              "2     BloodImage_00000.jpg        RBC    63   169   237   336\n",
              "3     BloodImage_00000.jpg        RBC   214   320   362   461\n",
              "4     BloodImage_00000.jpg        RBC   414   506   352   445\n",
              "...                    ...        ...   ...   ...   ...   ...\n",
              "4883  BloodImage_00410.jpg  Platelets   239   291   275   321\n",
              "4884  BloodImage_00410.jpg  Platelets   121   189   260   320\n",
              "4885  BloodImage_00410.jpg  Platelets    57   104   119   167\n",
              "4886  BloodImage_00410.jpg  Platelets     1    29   286   327\n",
              "4887  BloodImage_00410.jpg        WBC   367   611   166   394\n",
              "\n",
              "[4888 rows x 6 columns]"
            ]
          },
          "metadata": {
            "tags": []
          },
          "execution_count": 8
        }
      ]
    },
    {
      "cell_type": "code",
      "metadata": {
        "id": "7GHwhqeO2OrR"
      },
      "source": [
        "import re\n",
        "numbers = re.compile(r'(\\d+)')\n",
        "def numericalSort(value):\n",
        "    parts = numbers.split(value)\n",
        "    parts[1::2] = map(int, parts[1::2])\n",
        "    return parts"
      ],
      "execution_count": null,
      "outputs": []
    },
    {
      "cell_type": "code",
      "metadata": {
        "id": "1jiOQhMlWrzW"
      },
      "source": [
        "import glob\n",
        "X_data = []\n",
        "files = sorted(glob.glob('*.jpg'), key=numericalSort)\n",
        "for myFile in files:\n",
        "    image = plt.imread(myFile)\n",
        "    X_data.append (image)\n"
      ],
      "execution_count": null,
      "outputs": []
    },
    {
      "cell_type": "code",
      "metadata": {
        "id": "1ET3qfG0Yg0S"
      },
      "source": [
        "imgnew=[]\n",
        "yl=[]\n",
        "images = pd.DataFrame([])\n",
        "index = 0\n",
        "label = labels[0]\n",
        "uax = 0\n",
        "counterRBC = 0\n",
        "for data in labels[:4888]:   \n",
        "    if data != label:\n",
        "      label = data\n",
        "      uax =uax +1\n",
        "\n",
        "    image =  X_data[uax]\n",
        "    imgnew = image[ymin[index]:ymax[index],xmin[index]:xmax[index]]\n",
        "    \n",
        "    if cell[index] =='RBC':\n",
        "      counterRBC = counterRBC + 1\n",
        "      if counterRBC < 350:\n",
        "        im = Image.fromarray(imgnew)\n",
        "        im.save('finalimages/'+ (str(index).zfill(5))+'.jpeg')\n",
        "        yl.append(cell[index])\n",
        "        \n",
        "    else:    \n",
        "      if imgnew.size > 0:\n",
        "        im = Image.fromarray(imgnew)    \n",
        "        im.save('finalimages/'+(str(index).zfill(5))+'.jpeg')\n",
        "        yl.append(cell[index])\n",
        "    \n",
        "    index = index + 1"
      ],
      "execution_count": null,
      "outputs": []
    },
    {
      "cell_type": "code",
      "metadata": {
        "id": "BM9ndLfRbjYr",
        "colab": {
          "base_uri": "https://localhost:8080/",
          "height": 151
        },
        "outputId": "5da47918-efb0-459a-9a90-61db48605f11"
      },
      "source": [
        "from glob import iglob\n",
        "from PIL import Image\n",
        "import cv2\n",
        "index = 0\n",
        "faces = pd.DataFrame([])\n",
        "filespath = sorted(iglob('finalimages/*.jpeg'))\n",
        "plt.subplot(2, 2, 1) \n",
        "\n",
        "for path in filespath:\n",
        "\n",
        "  imagefin=cv2.imread(path)\n",
        "  stretch_near =  cv2.resize(imagefin, (35,35), interpolation = cv2.INTER_AREA)\n",
        "  im = Image.fromarray(stretch_near)     \n",
        "  im.save('resized35/'+str(index)+'.jpeg')\n",
        "  face = pd.Series(stretch_near.flatten(),name=yl[index])\n",
        "  index = index + 1\n",
        "  faces = faces.append(face)\n"
      ],
      "execution_count": null,
      "outputs": [
        {
          "output_type": "display_data",
          "data": {
            "image/png": "[encoded data removed]",
            "text/plain": [
              "<Figure size 432x288 with 1 Axes>"
            ]
          },
          "metadata": {
            "tags": [],
            "needs_background": "light"
          }
        }
      ]
    },
    {
      "cell_type": "code",
      "metadata": {
        "id": "XPP6AyBshkQ5"
      },
      "source": [
        "faces = np.asanyarray(faces)"
      ],
      "execution_count": null,
      "outputs": []
    },
    {
      "cell_type": "code",
      "metadata": {
        "id": "SNXeuzuRSXBU"
      },
      "source": [
        "from sklearn.model_selection import train_test_split\n",
        "from sklearn.pipeline import Pipeline\n",
        "from sklearn.preprocessing import StandardScaler\n",
        "from sklearn.decomposition import PCA\n",
        "from sklearn import svm, metrics"
      ],
      "execution_count": null,
      "outputs": []
    },
    {
      "cell_type": "code",
      "metadata": {
        "id": "c98lY_t4km9l",
        "colab": {
          "base_uri": "https://localhost:8080/",
          "height": 33
        },
        "outputId": "a04f398a-307c-4f2d-8ea7-6226fdf34fc9"
      },
      "source": [
        "y = []\n",
        "for i in yl:\n",
        "  if i == 'WBC':\n",
        "    y.append(1)\n",
        "  if i == 'RBC':\n",
        "    y.append(2)\n",
        "  if i == 'Platelets':\n",
        "    y.append(3)\n",
        "y = np.asanyarray(y)\n",
        "\n",
        "y.size"
      ],
      "execution_count": null,
      "outputs": [
        {
          "output_type": "execute_result",
          "data": {
            "text/plain": [
              "1082"
            ]
          },
          "metadata": {
            "tags": []
          },
          "execution_count": 16
        }
      ]
    },
    {
      "cell_type": "code",
      "metadata": {
        "id": "5zPBBmr4SaJi"
      },
      "source": [
        "xtrain, xtest, ytrain, ytest = train_test_split(faces, y, test_size = 0.20)"
      ],
      "execution_count": null,
      "outputs": []
    },
    {
      "cell_type": "code",
      "metadata": {
        "id": "839ty-lJn8iy",
        "colab": {
          "base_uri": "https://localhost:8080/",
          "height": 161
        },
        "outputId": "33888bef-f73f-431c-a5d1-72280826f16c"
      },
      "source": [
        "np.unique(ytrain)"
      ],
      "execution_count": null,
      "outputs": [
        {
          "output_type": "error",
          "ename": "NameError",
          "evalue": "ignored",
          "traceback": [
            "\u001b[0;31m---------------------------------------------------------------------------\u001b[0m",
            "\u001b[0;31mNameError\u001b[0m                                 Traceback (most recent call last)",
            "\u001b[0;32m<ipython-input-17-810faf85e522>\u001b[0m in \u001b[0;36m<module>\u001b[0;34m()\u001b[0m\n\u001b[0;32m----> 1\u001b[0;31m \u001b[0mnp\u001b[0m\u001b[0;34m.\u001b[0m\u001b[0munique\u001b[0m\u001b[0;34m(\u001b[0m\u001b[0mytrain\u001b[0m\u001b[0;34m)\u001b[0m\u001b[0;34m\u001b[0m\u001b[0;34m\u001b[0m\u001b[0m\n\u001b[0m",
            "\u001b[0;31mNameError\u001b[0m: name 'ytrain' is not defined"
          ]
        }
      ]
    },
    {
      "cell_type": "code",
      "metadata": {
        "id": "3CoOTtIOSjPO"
      },
      "source": [
        "scaler = StandardScaler()\n",
        "images_scaled = scaler.fit_transform(faces)"
      ],
      "execution_count": null,
      "outputs": []
    },
    {
      "cell_type": "code",
      "metadata": {
        "id": "rfBGED6UDSW3"
      },
      "source": [
        "xtrain, xtest, ytrain, ytest = train_test_split(images_scaled, y, test_size = 0.30)"
      ],
      "execution_count": null,
      "outputs": []
    },
    {
      "cell_type": "code",
      "metadata": {
        "id": "ktlU6NHk_zjh"
      },
      "source": [
        "param_dict = {\"pca__n_components\":[2, 3, 4,5,6,7,10],\n",
        "              \"SVM__gamma\":[0.0001,0.001,0.0002,0.00001,1]}\n",
        "           "
      ],
      "execution_count": null,
      "outputs": []
    },
    {
      "cell_type": "code",
      "metadata": {
        "id": "XyrGA7qB7s5I"
      },
      "source": [
        "pca = PCA()\n",
        "pipe = Pipeline(steps=[('pca', PCA()),('SVM', svm.SVC())])\n",
        "\n",
        "search_obj = RandomizedSearchCV(pipe, param_dict, \n",
        "                                scoring='f1_macro', n_iter=15)"
      ],
      "execution_count": null,
      "outputs": []
    },
    {
      "cell_type": "code",
      "metadata": {
        "id": "3sfO5aBeADln",
        "colab": {
          "base_uri": "https://localhost:8080/",
          "height": 485
        },
        "outputId": "879cc385-d250-43d3-89f0-e09e8a098588"
      },
      "source": [
        "search_obj.fit(xtrain, ytrain)"
      ],
      "execution_count": null,
      "outputs": [
        {
          "output_type": "execute_result",
          "data": {
            "text/plain": [
              "RandomizedSearchCV(cv=None, error_score=nan,\n",
              "                   estimator=Pipeline(memory=None,\n",
              "                                      steps=[('pca',\n",
              "                                              PCA(copy=True,\n",
              "                                                  iterated_power='auto',\n",
              "                                                  n_components=None,\n",
              "                                                  random_state=None,\n",
              "                                                  svd_solver='auto', tol=0.0,\n",
              "                                                  whiten=False)),\n",
              "                                             ('SVM',\n",
              "                                              SVC(C=1.0, break_ties=False,\n",
              "                                                  cache_size=200,\n",
              "                                                  class_weight=None, coef0=0.0,\n",
              "                                                  decision_function_shape='ovr',\n",
              "                                                  degree=3, gamma='scale',\n",
              "                                                  kernel='rbf', max_iter=-1,\n",
              "                                                  probability=False,\n",
              "                                                  random_state=None,\n",
              "                                                  shrinking=True, tol=0.001,\n",
              "                                                  verbose=False))],\n",
              "                                      verbose=False),\n",
              "                   iid='deprecated', n_iter=15, n_jobs=None,\n",
              "                   param_distributions={'SVM__gamma': [0.0001, 0.001, 0.0002,\n",
              "                                                       1e-05, 1],\n",
              "                                        'pca__n_components': [2, 3, 4, 5, 6, 7,\n",
              "                                                              10]},\n",
              "                   pre_dispatch='2*n_jobs', random_state=None, refit=True,\n",
              "                   return_train_score=False, scoring='f1_macro', verbose=0)"
            ]
          },
          "metadata": {
            "tags": []
          },
          "execution_count": 72
        }
      ]
    },
    {
      "cell_type": "code",
      "metadata": {
        "id": "mZ1M4DYvAqK9",
        "colab": {
          "base_uri": "https://localhost:8080/",
          "height": 33
        },
        "outputId": "7d0b7189-c0ac-4288-b6b9-213f951463cd"
      },
      "source": [
        "print(\"The best parameters: {0}\".format(search_obj.best_params_))\n",
        "best_model = search_obj.best_estimator_"
      ],
      "execution_count": null,
      "outputs": [
        {
          "output_type": "stream",
          "text": [
            "The best parameters: {'pca__n_components': 7, 'SVM__gamma': 0.0002}\n"
          ],
          "name": "stdout"
        }
      ]
    },
    {
      "cell_type": "code",
      "metadata": {
        "id": "l12ywPxEHO3I"
      },
      "source": [
        "from sklearn.tree import DecisionTreeClassifier\n"
      ],
      "execution_count": null,
      "outputs": []
    },
    {
      "cell_type": "code",
      "metadata": {
        "id": "ehnj5c7ZEw4L",
        "colab": {
          "base_uri": "https://localhost:8080/",
          "height": 117
        },
        "outputId": "627a3017-e364-428d-c6f8-4f666ad87ca3"
      },
      "source": [
        "from sklearn.model_selection import KFold\n",
        "kf = KFold(n_splits=5)\n",
        "\n",
        "train_scores = []\n",
        "dev_scores = []\n",
        "scores = cross_val_score(best_model3, xtrain, ytrain, cv=30, scoring='f1_macro')\n",
        "print(scores)\n",
        "\n",
        "for train_index, test_index in kf.split(xtrain):\n",
        "  train, dev = xtrain[train_index], xtrain[test_index]\n",
        "  y_train, y_dev = ytrain[train_index], ytrain[test_index]\n",
        "  best_model3.fit(train, y_train)\n",
        "  train_scores.append(best_model3.score(train,y_train))\n",
        "  dev_scores.append(best_model3.score(dev, y_dev))\n",
        "\n",
        "print('Average: ',scores.mean(), scores.std())"
      ],
      "execution_count": null,
      "outputs": [
        {
          "output_type": "stream",
          "text": [
            "[0.9628483  0.9628483  0.9628483  1.         0.96023392 0.92118163\n",
            " 0.9628483  1.         0.91522925 1.         1.         0.96023392\n",
            " 0.96078431 0.96023392 1.         0.96023392 0.9212963  1.\n",
            " 0.96023392 1.         0.96023392 0.96023392 1.         1.\n",
            " 1.         1.         1.         0.9628483  1.         0.96023392]\n",
            "Average:  0.9738201440420222 0.025897868646929\n"
          ],
          "name": "stdout"
        }
      ]
    },
    {
      "cell_type": "code",
      "metadata": {
        "id": "pNamwDaH_oFR",
        "colab": {
          "base_uri": "https://localhost:8080/",
          "height": 84
        },
        "outputId": "5c310033-0658-4f41-d343-bd3464bdf59d"
      },
      "source": [
        "print('Train scores:',train_scores)\n",
        "print('Train score avarage: ',np.mean(train_scores))\n",
        "print('Test score: ',dev_scores)\n",
        "print('Test score avarage: ',np.mean(dev_scores))"
      ],
      "execution_count": null,
      "outputs": [
        {
          "output_type": "stream",
          "text": [
            "Train scores: [1.0, 1.0, 1.0, 1.0, 1.0]\n",
            "Train score avarage:  1.0\n",
            "Test score:  [0.9653179190751445, 0.9479768786127167, 0.9826589595375722, 0.9595375722543352, 0.930635838150289]\n",
            "Test score avarage:  0.9572254335260115\n"
          ],
          "name": "stdout"
        }
      ]
    },
    {
      "cell_type": "code",
      "metadata": {
        "id": "WPrVUZ46PV3q",
        "colab": {
          "base_uri": "https://localhost:8080/",
          "height": 33
        },
        "outputId": "3b232c36-b5aa-4810-d7d3-cd1dff232ba7"
      },
      "source": [
        "best_model3.fit(xtest, ytest)\n",
        "test_scores = best_model3.score(xtest, ytest)\n",
        "print('Test score: ',test_scores)"
      ],
      "execution_count": null,
      "outputs": [
        {
          "output_type": "stream",
          "text": [
            "Test score:  1.0\n"
          ],
          "name": "stdout"
        }
      ]
    },
    {
      "cell_type": "code",
      "metadata": {
        "id": "C-aFRUz5ELpP",
        "colab": {
          "base_uri": "https://localhost:8080/",
          "height": 228
        },
        "outputId": "1ae986c0-6d04-42e8-f54f-acfb17cc50fc"
      },
      "source": [
        "search_obj = RandomizedSearchCV(pipe, param_dict, \n",
        "                                scoring='f1_macro', n_iter=15)\n",
        "fit_obj = search_obj.fit(xtrain, ytrain)\n",
        "print(fit_obj.cv_results_['mean_test_score'])\n",
        "best_model2 = fit_obj.best_estimator_"
      ],
      "execution_count": null,
      "outputs": [
        {
          "output_type": "error",
          "ename": "NameError",
          "evalue": "ignored",
          "traceback": [
            "\u001b[0;31m---------------------------------------------------------------------------\u001b[0m",
            "\u001b[0;31mNameError\u001b[0m                                 Traceback (most recent call last)",
            "\u001b[0;32m<ipython-input-23-b0dda66c2281>\u001b[0m in \u001b[0;36m<module>\u001b[0;34m()\u001b[0m\n\u001b[0;32m----> 1\u001b[0;31m search_obj = RandomizedSearchCV(pipe, param_dict, \n\u001b[0m\u001b[1;32m      2\u001b[0m                                 scoring='f1_macro', n_iter=15)\n\u001b[1;32m      3\u001b[0m \u001b[0mfit_obj\u001b[0m \u001b[0;34m=\u001b[0m \u001b[0msearch_obj\u001b[0m\u001b[0;34m.\u001b[0m\u001b[0mfit\u001b[0m\u001b[0;34m(\u001b[0m\u001b[0mxtrain\u001b[0m\u001b[0;34m,\u001b[0m \u001b[0mytrain\u001b[0m\u001b[0;34m)\u001b[0m\u001b[0;34m\u001b[0m\u001b[0;34m\u001b[0m\u001b[0m\n\u001b[1;32m      4\u001b[0m \u001b[0mprint\u001b[0m\u001b[0;34m(\u001b[0m\u001b[0mfit_obj\u001b[0m\u001b[0;34m.\u001b[0m\u001b[0mcv_results_\u001b[0m\u001b[0;34m[\u001b[0m\u001b[0;34m'mean_test_score'\u001b[0m\u001b[0;34m]\u001b[0m\u001b[0;34m)\u001b[0m\u001b[0;34m\u001b[0m\u001b[0;34m\u001b[0m\u001b[0m\n\u001b[1;32m      5\u001b[0m \u001b[0mbest_model2\u001b[0m \u001b[0;34m=\u001b[0m \u001b[0mfit_obj\u001b[0m\u001b[0;34m.\u001b[0m\u001b[0mbest_estimator_\u001b[0m\u001b[0;34m\u001b[0m\u001b[0;34m\u001b[0m\u001b[0m\n",
            "\u001b[0;31mNameError\u001b[0m: name 'pipe' is not defined"
          ]
        }
      ]
    },
    {
      "cell_type": "code",
      "metadata": {
        "id": "kp4T4UhxsnLg"
      },
      "source": [
        "from sklearn import metrics, preprocessing, tree\n",
        "from sklearn.metrics import f1_score, make_scorer\n",
        "from sklearn.model_selection import cross_val_score\n",
        "from sklearn.model_selection import GridSearchCV, RandomizedSearchCV\n",
        "from scipy import stats\n",
        "from sklearn.manifold import TSNE\n",
        "from sklearn.metrics import make_scorer, roc_auc_score\n"
      ],
      "execution_count": null,
      "outputs": []
    },
    {
      "cell_type": "code",
      "metadata": {
        "id": "LXnlWeBv28pJ",
        "colab": {
          "base_uri": "https://localhost:8080/",
          "height": 34
        },
        "outputId": "d2901d15-a7ae-4442-f26f-c05a3d7ab77e"
      },
      "source": [
        "tsne = TSNE(n_components=2, n_iter=2000, n_jobs=-1)\n",
        "x_2d = tsne.fit_transform(faces)\n",
        "x_2d.shape"
      ],
      "execution_count": null,
      "outputs": [
        {
          "output_type": "execute_result",
          "data": {
            "text/plain": [
              "(1082, 2)"
            ]
          },
          "metadata": {
            "tags": []
          },
          "execution_count": 101
        }
      ]
    },
    {
      "cell_type": "code",
      "metadata": {
        "id": "qk5c6z1E3-Av",
        "colab": {
          "base_uri": "https://localhost:8080/",
          "height": 282
        },
        "outputId": "610fc0e3-788d-4c34-ddd3-f252765a7f1e"
      },
      "source": [
        "plt.scatter(x_2d[:,0],x_2d[:,1], c=y, cmap=plt.cm.tab10)"
      ],
      "execution_count": null,
      "outputs": [
        {
          "output_type": "execute_result",
          "data": {
            "text/plain": [
              "<matplotlib.collections.PathCollection at 0x7f04ef102358>"
            ]
          },
          "metadata": {
            "tags": []
          },
          "execution_count": 102
        },
        {
          "output_type": "display_data",
          "data": {
            "image/png": "[encoded data removed]",
            "text/plain": [
              "<Figure size 432x288 with 1 Axes>"
            ]
          },
          "metadata": {
            "tags": [],
            "needs_background": "light"
          }
        }
      ]
    },
    {
      "cell_type": "code",
      "metadata": {
        "id": "Uul7zqpn3pIE",
        "colab": {
          "base_uri": "https://localhost:8080/",
          "height": 34
        },
        "outputId": "c12271c8-b672-4200-8be2-cada49cd1b6b"
      },
      "source": [
        "faces.shape"
      ],
      "execution_count": null,
      "outputs": [
        {
          "output_type": "execute_result",
          "data": {
            "text/plain": [
              "(1082, 3675)"
            ]
          },
          "metadata": {
            "tags": []
          },
          "execution_count": 95
        }
      ]
    },
    {
      "cell_type": "code",
      "metadata": {
        "id": "jboVqBmp6QoO"
      },
      "source": [
        "from sklearn.tree import DecisionTreeClassifier\n",
        "from sklearn. ensemble import RandomForestClassifier, BaggingClassifier, AdaBoostClassifier, VotingClassifier\n",
        "from sklearn.neighbors import KNeighborsClassifier"
      ],
      "execution_count": null,
      "outputs": []
    },
    {
      "cell_type": "code",
      "metadata": {
        "id": "ZaB8oA_MklVr"
      },
      "source": [
        "modelKN = Pipeline(steps=[('pca', PCA()),('KNN', KNeighborsClassifier())])"
      ],
      "execution_count": null,
      "outputs": []
    },
    {
      "cell_type": "code",
      "metadata": {
        "id": "jg_QC1tvRMcO",
        "colab": {
          "base_uri": "https://localhost:8080/",
          "height": 84
        },
        "outputId": "f68b82c5-c05e-46a0-d5ab-af423bfd8899"
      },
      "source": [
        "param_dict3 = {\"pca__n_components\":[2, 3, 4,5],\n",
        "              \"KNN__n_neighbors\":[3,4,5,6,7]}\n",
        "search_obj = RandomizedSearchCV(modelKN, param_dict3, \n",
        "                                scoring='f1_macro', n_iter=20)\n",
        "fit_obj = search_obj.fit(xtrain, ytrain)\n",
        "print(fit_obj.cv_results_['mean_test_score'])\n",
        "best_model4 = fit_obj.best_estimator_    "
      ],
      "execution_count": null,
      "outputs": [
        {
          "output_type": "stream",
          "text": [
            "[0.87408648 0.88963815 0.89194211 0.89059499 0.87462752 0.88378257\n",
            " 0.8993411  0.89931366 0.88157563 0.88927305 0.89297849 0.90208758\n",
            " 0.88920622 0.8917577  0.90739293 0.90592583 0.89214661 0.89967803\n",
            " 0.89439156 0.9034283 ]\n"
          ],
          "name": "stdout"
        }
      ]
    },
    {
      "cell_type": "code",
      "metadata": {
        "id": "mGIG9sbQla1V",
        "colab": {
          "base_uri": "https://localhost:8080/",
          "height": 33
        },
        "outputId": "c43f6ff5-66c1-4592-e291-4bdb5c0670c7"
      },
      "source": [
        "print(\"The best parameters: {0}\".format(fit_obj.best_params_))"
      ],
      "execution_count": null,
      "outputs": [
        {
          "output_type": "stream",
          "text": [
            "The best parameters: {'pca__n_components': 4, 'KNN__n_neighbors': 6}\n"
          ],
          "name": "stdout"
        }
      ]
    },
    {
      "cell_type": "code",
      "metadata": {
        "id": "4VyBYo7rRiB8",
        "colab": {
          "base_uri": "https://localhost:8080/",
          "height": 33
        },
        "outputId": "81a0738f-c28b-4fbc-8dd1-108ad284a72a"
      },
      "source": [
        "\n",
        "pipe2 = Pipeline(steps=[('pca', PCA()),('Random', RandomForestClassifier())])\n",
        "param_dict2 = {\"pca__n_components\":[4,5,6],\n",
        "              \"Random__n_estimators\":[50,100,120,200]}\n",
        "\n",
        "search_obj = RandomizedSearchCV(pipe2, param_dict2, \n",
        "                                scoring='f1_macro', n_iter=5)\n",
        "fit_obj = search_obj.fit(xtrain, ytrain)\n",
        "print(fit_obj.cv_results_['mean_test_score'])\n",
        "best_model3 = fit_obj.best_estimator_\n",
        "    "
      ],
      "execution_count": null,
      "outputs": [
        {
          "output_type": "stream",
          "text": [
            "[0.9104031  0.96421705 0.9653415  0.9607396  0.90208786]\n"
          ],
          "name": "stdout"
        }
      ]
    },
    {
      "cell_type": "code",
      "metadata": {
        "id": "j9mteV9oTr01",
        "colab": {
          "base_uri": "https://localhost:8080/",
          "height": 33
        },
        "outputId": "7c13e944-6b8e-4f11-ed05-608ee30ec1c7"
      },
      "source": [
        "print(\"The best parameters: {0}\".format(fit_obj.best_params_))"
      ],
      "execution_count": null,
      "outputs": [
        {
          "output_type": "stream",
          "text": [
            "The best parameters: {'pca__n_components': 6, 'Random__n_estimators': 120}\n"
          ],
          "name": "stdout"
        }
      ]
    },
    {
      "cell_type": "code",
      "metadata": {
        "id": "-cOF3QZp6LIt",
        "colab": {
          "base_uri": "https://localhost:8080/",
          "height": 50
        },
        "outputId": "76f74ef2-1e2c-4c5b-9df8-7a974e149156"
      },
      "source": [
        "\n",
        "pipe2.fit(train,y_train)\n",
        "\n",
        "print('Train: ', pipe2.score(xtrain,ytrain))\n",
        "print('Test: ', pipe2.score(xtest,ytest))"
      ],
      "execution_count": null,
      "outputs": [
        {
          "output_type": "stream",
          "text": [
            "Train:  0.8784676354029062\n",
            "Test:  0.3292307692307692\n"
          ],
          "name": "stdout"
        }
      ]
    },
    {
      "cell_type": "code",
      "metadata": {
        "id": "HVrWxn53squy"
      },
      "source": [
        "from sklearn.neural_network import MLPClassifier"
      ],
      "execution_count": null,
      "outputs": []
    },
    {
      "cell_type": "code",
      "metadata": {
        "id": "YD_7kTiZp36h"
      },
      "source": [
        "modelMLP = Pipeline(steps=[('pca', PCA()),('MLP', MLPClassifier())])"
      ],
      "execution_count": null,
      "outputs": []
    },
    {
      "cell_type": "code",
      "metadata": {
        "id": "4_uAtxGRqtQF",
        "colab": {
          "base_uri": "https://localhost:8080/",
          "height": 53
        },
        "outputId": "8917a04b-c9c2-4a5b-9416-6600abbfb1a0"
      },
      "source": [
        "modelMLP.get_params().keys()"
      ],
      "execution_count": null,
      "outputs": [
        {
          "output_type": "execute_result",
          "data": {
            "text/plain": [
              "dict_keys(['memory', 'steps', 'verbose', 'pca', 'MLP', 'pca__copy', 'pca__iterated_power', 'pca__n_components', 'pca__random_state', 'pca__svd_solver', 'pca__tol', 'pca__whiten', 'MLP__activation', 'MLP__alpha', 'MLP__batch_size', 'MLP__beta_1', 'MLP__beta_2', 'MLP__early_stopping', 'MLP__epsilon', 'MLP__hidden_layer_sizes', 'MLP__learning_rate', 'MLP__learning_rate_init', 'MLP__max_fun', 'MLP__max_iter', 'MLP__momentum', 'MLP__n_iter_no_change', 'MLP__nesterovs_momentum', 'MLP__power_t', 'MLP__random_state', 'MLP__shuffle', 'MLP__solver', 'MLP__tol', 'MLP__validation_fraction', 'MLP__verbose', 'MLP__warm_start'])"
            ]
          },
          "metadata": {
            "tags": []
          },
          "execution_count": 200
        }
      ]
    },
    {
      "cell_type": "code",
      "metadata": {
        "id": "m1CgnKGSpgIW",
        "colab": {
          "base_uri": "https://localhost:8080/",
          "height": 33
        },
        "outputId": "d3d4f76d-0a1d-4f07-9050-4127e45e1d11"
      },
      "source": [
        "param_dict4 = {\"pca__n_components\":[2, 3, 4],\n",
        "              \"MLP__hidden_layer_sizes\":[(100,50,30),(100,30,30)]}\n",
        "search_obj = RandomizedSearchCV(modelMLP, param_dict4, \n",
        "                                scoring='f1_macro', n_iter=5)\n",
        "fit_obj = search_obj.fit(xtrain, ytrain)\n",
        "print(fit_obj.cv_results_['mean_test_score'])\n",
        "best_model5 = fit_obj.best_estimator_  "
      ],
      "execution_count": null,
      "outputs": [
        {
          "output_type": "stream",
          "text": [
            "[0.8608132  0.88104138 0.88150749 0.86230458 0.87676735]\n"
          ],
          "name": "stdout"
        }
      ]
    },
    {
      "cell_type": "code",
      "metadata": {
        "id": "fkqYuXw3rZir",
        "colab": {
          "base_uri": "https://localhost:8080/",
          "height": 33
        },
        "outputId": "3e4216a4-609a-4e0a-ccc9-733ac31b4c7f"
      },
      "source": [
        "print(\"The best parameters: {0}\".format(fit_obj.best_params_))"
      ],
      "execution_count": null,
      "outputs": [
        {
          "output_type": "stream",
          "text": [
            "The best parameters: {'pca__n_components': 2, 'MLP__hidden_layer_sizes': (100, 30, 30)}\n"
          ],
          "name": "stdout"
        }
      ]
    },
    {
      "cell_type": "code",
      "metadata": {
        "id": "9EgfCLCf6vlR",
        "colab": {
          "base_uri": "https://localhost:8080/",
          "height": 50
        },
        "outputId": "a7a4a6a4-4f01-462a-acac-9ab9b62b1c47"
      },
      "source": [
        "adb = AdaBoostClassifier(n_estimators = 100)\n",
        "adb.fit(xtrain,ytrain)\n",
        "\n",
        "print('Train: ', adb.score(xtrain,ytrain))\n",
        "print('Test: ', adb.score(xtest,ytest))"
      ],
      "execution_count": null,
      "outputs": [
        {
          "output_type": "stream",
          "text": [
            "Train:  0.9564068692206077\n",
            "Test:  0.916923076923077\n"
          ],
          "name": "stdout"
        }
      ]
    },
    {
      "cell_type": "code",
      "metadata": {
        "id": "ysPW5DyT-tT8"
      },
      "source": [
        "ypred = best_model4.predict(xtest)\n"
      ],
      "execution_count": null,
      "outputs": []
    },
    {
      "cell_type": "code",
      "metadata": {
        "id": "bAdEm-ab-wnW",
        "colab": {
          "base_uri": "https://localhost:8080/",
          "height": 201
        },
        "outputId": "0918c594-d67e-424a-d586-f356a44b37c9"
      },
      "source": [
        "print('Classification report: \\n', metrics.classification_report(ytest, ypred))"
      ],
      "execution_count": null,
      "outputs": [
        {
          "output_type": "stream",
          "text": [
            "Classification report: \n",
            "               precision    recall  f1-score   support\n",
            "\n",
            "           1       0.87      0.94      0.90       115\n",
            "           2       1.00      1.00      1.00       112\n",
            "           3       0.92      0.84      0.88        98\n",
            "\n",
            "    accuracy                           0.93       325\n",
            "   macro avg       0.93      0.93      0.93       325\n",
            "weighted avg       0.93      0.93      0.93       325\n",
            "\n"
          ],
          "name": "stdout"
        }
      ]
    },
    {
      "cell_type": "code",
      "metadata": {
        "id": "5PQx7b-s-2kP",
        "colab": {
          "base_uri": "https://localhost:8080/",
          "height": 296
        },
        "outputId": "bc0f6a53-c8f4-4ca7-cca1-24190fb8c0ea"
      },
      "source": [
        "metrics.plot_confusion_matrix(best_model4, xtest, ytest)"
      ],
      "execution_count": null,
      "outputs": [
        {
          "output_type": "execute_result",
          "data": {
            "text/plain": [
              "<sklearn.metrics._plot.confusion_matrix.ConfusionMatrixDisplay at 0x7f2edbf29f60>"
            ]
          },
          "metadata": {
            "tags": []
          },
          "execution_count": 171
        },
        {
          "output_type": "display_data",
          "data": {
            "image/png": "[encoded data removed]",
            "text/plain": [
              "<Figure size 432x288 with 2 Axes>"
            ]
          },
          "metadata": {
            "tags": [],
            "needs_background": "light"
          }
        }
      ]
    },
    {
      "cell_type": "code",
      "metadata": {
        "id": "s9-6S0Hqlcee"
      },
      "source": [
        "from PIL import Image\n"
      ],
      "execution_count": null,
      "outputs": []
    }
  ]
}